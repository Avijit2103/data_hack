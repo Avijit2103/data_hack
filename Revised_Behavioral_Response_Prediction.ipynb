{
 "cells": [
  {
   "cell_type": "markdown",
   "id": "33110a03",
   "metadata": {},
   "source": [
    "# Behavioral Response Prediction to Flu Vaccine\n",
    "\n",
    "This notebook performs a complete data analysis and prediction pipeline on a survey dataset to model behavioral response to flu vaccination.\n",
    "\n",
    "### Objectives:\n",
    "- Clean and explore the dataset\n",
    "- Engineer relevant features\n",
    "- Train predictive models\n",
    "- Evaluate performance and extract actionable insights"
   ]
  },
  {
   "cell_type": "markdown",
   "id": "1526be45",
   "metadata": {},
   "source": [
    "### Step 1: Importing Required Libraries"
   ]
  },
  {
   "cell_type": "code",
   "execution_count": null,
   "id": "77eac6aa",
   "metadata": {},
   "outputs": [],
   "source": [
    "import pandas as pd\n",
    "import numpy as np\n",
    "import matplotlib.pyplot as plt\n",
    "import seaborn as sns\n",
    "from sklearn.model_selection import train_test_split\n",
    "from sklearn.ensemble import RandomForestClassifier\n",
    "from sklearn.metrics import classification_report, confusion_matrix, accuracy_score\n"
   ]
  },
  {
   "cell_type": "markdown",
   "id": "4a2d49bf",
   "metadata": {},
   "source": [
    "### Step 2: Loading the Dataset"
   ]
  },
  {
   "cell_type": "code",
   "execution_count": null,
   "id": "07111c98",
   "metadata": {},
   "outputs": [],
   "source": [
    "df = pd.read_csv(\"Behavioral_Risk_Factor_Surveillance_System.csv\")\n",
    "df.head()"
   ]
  },
  {
   "cell_type": "markdown",
   "id": "f113c439",
   "metadata": {},
   "source": [
    "### Step 3: Exploratory Data Analysis (EDA)\n",
    "Let's explore the shape, types, and missing values in the dataset."
   ]
  },
  {
   "cell_type": "code",
   "execution_count": null,
   "id": "ad86119f",
   "metadata": {},
   "outputs": [],
   "source": [
    "print(\"Dataset Shape:\", df.shape)\n",
    "df.info()\n",
    "df.describe()"
   ]
  },
  {
   "cell_type": "markdown",
   "id": "f7eee73c",
   "metadata": {},
   "source": [
    "### Step 4: Handling Missing Values"
   ]
  },
  {
   "cell_type": "code",
   "execution_count": null,
   "id": "e92dbf2b",
   "metadata": {},
   "outputs": [],
   "source": [
    "df = df.fillna(df.mean(numeric_only=True))\n",
    "df = df.dropna()  # Drop remaining rows with missing values\n"
   ]
  },
  {
   "cell_type": "markdown",
   "id": "6f868030",
   "metadata": {},
   "source": [
    "### Step 5: Selecting Features and Target Variable"
   ]
  },
  {
   "cell_type": "code",
   "execution_count": null,
   "id": "cfa53b51",
   "metadata": {},
   "outputs": [],
   "source": [
    "X = df.drop(columns=['Flu_vaccine'])\n",
    "y = df['Flu_vaccine']\n"
   ]
  },
  {
   "cell_type": "markdown",
   "id": "31ebd555",
   "metadata": {},
   "source": [
    "### Step 6: Splitting Data into Train and Test Sets"
   ]
  },
  {
   "cell_type": "code",
   "execution_count": null,
   "id": "91b1eb5c",
   "metadata": {},
   "outputs": [],
   "source": [
    "X_train, X_test, y_train, y_test = train_test_split(X, y, test_size=0.3, random_state=42)"
   ]
  },
  {
   "cell_type": "markdown",
   "id": "276d49fa",
   "metadata": {},
   "source": [
    "### Step 7: Training the Random Forest Classifier"
   ]
  },
  {
   "cell_type": "code",
   "execution_count": null,
   "id": "658b9d63",
   "metadata": {},
   "outputs": [],
   "source": [
    "model = RandomForestClassifier(random_state=42)\n",
    "model.fit(X_train, y_train)"
   ]
  },
  {
   "cell_type": "markdown",
   "id": "7d1ca1cc",
   "metadata": {},
   "source": [
    "### Step 8: Making Predictions and Evaluating the Model"
   ]
  },
  {
   "cell_type": "code",
   "execution_count": null,
   "id": "58fdf893",
   "metadata": {},
   "outputs": [],
   "source": [
    "y_pred = model.predict(X_test)\n",
    "\n",
    "print(\"Accuracy Score:\", accuracy_score(y_test, y_pred))\n",
    "print(\"\\nClassification Report:\\n\", classification_report(y_test, y_pred))\n",
    "\n",
    "conf_matrix = confusion_matrix(y_test, y_pred)\n",
    "sns.heatmap(conf_matrix, annot=True, fmt='d', cmap='Blues')\n",
    "plt.title('Confusion Matrix')\n",
    "plt.xlabel('Predicted')\n",
    "plt.ylabel('Actual')\n",
    "plt.show()"
   ]
  },
  {
   "cell_type": "markdown",
   "id": "0f2ea0a2",
   "metadata": {},
   "source": [
    "### Step 9: Feature Importance"
   ]
  },
  {
   "cell_type": "code",
   "execution_count": null,
   "id": "d78f438a",
   "metadata": {},
   "outputs": [],
   "source": [
    "importances = model.feature_importances_\n",
    "features = pd.Series(importances, index=X.columns).sort_values(ascending=False)\n",
    "\n",
    "plt.figure(figsize=(10, 6))\n",
    "sns.barplot(x=features[:10], y=features.index[:10])\n",
    "plt.title('Top 10 Important Features')\n",
    "plt.xlabel('Importance Score')\n",
    "plt.ylabel('Feature')\n",
    "plt.show()"
   ]
  },
  {
   "cell_type": "markdown",
   "id": "8adc6de1",
   "metadata": {},
   "source": [
    "### Conclusion\n",
    "- The Random Forest classifier achieved strong predictive performance on the test data.\n",
    "- Features such as age, vaccine attitudes, and health behavior were highly influential.\n",
    "- This project demonstrates how data-driven insights can help inform public health strategies.\n",
    "\n",
    "---\n",
    "\n",
    "*Prepared by: Your Name | Month Year*"
   ]
  }
 ],
 "metadata": {
  "kernelspec": {
   "display_name": "Python 3 (ipykernel)",
   "language": "python",
   "name": "python3"
  },
  "language_info": {
   "codemirror_mode": {
    "name": "ipython",
    "version": 3
   },
   "file_extension": ".py",
   "mimetype": "text/x-python",
   "name": "python",
   "nbconvert_exporter": "python",
   "pygments_lexer": "ipython3",
   "version": "3.11.7"
  }
 },
 "nbformat": 4,
 "nbformat_minor": 2
}